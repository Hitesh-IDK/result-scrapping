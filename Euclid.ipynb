{
 "cells": [
  {
   "cell_type": "code",
   "execution_count": 3,
   "id": "ad86581e",
   "metadata": {},
   "outputs": [
    {
     "name": "stdout",
     "output_type": "stream",
     "text": [
      "[19]\n"
     ]
    }
   ],
   "source": [
    "import math\n",
    "from collections import Counter\n",
    "\n",
    "def euclidean_distance(point1, point2):\n",
    "    return math.floor(math.sqrt((point2[0] - point1[0]) ** 2 + (point2[1] - point1[1]) ** 2))\n",
    "\n",
    "def find_mode_euclidean_distances(coordinates):\n",
    "    if not all(isinstance(point, tuple) and len(point) == 2 for point in coordinates):\n",
    "        return [-1]\n",
    "\n",
    "    distances = [euclidean_distance(coordinates[i], coordinates[i+1]) for i in range(len(coordinates)-1)]\n",
    "    mode_counter = Counter(distances)\n",
    "    mode_values = [key for key, value in mode_counter.items() if value == max(mode_counter.values())]\n",
    "\n",
    "    return mode_values\n",
    "\n",
    "# Example usage:\n",
    "coordinates = [(-11, 3), (8, 5), (-3, 2), (9, 17)]\n",
    "result = find_mode_euclidean_distances(coordinates)\n",
    "print(result)"
   ]
  },
  {
   "cell_type": "code",
   "execution_count": null,
   "id": "b6450a54",
   "metadata": {},
   "outputs": [],
   "source": []
  }
 ],
 "metadata": {
  "kernelspec": {
   "display_name": "Python 3 (ipykernel)",
   "language": "python",
   "name": "python3"
  },
  "language_info": {
   "codemirror_mode": {
    "name": "ipython",
    "version": 3
   },
   "file_extension": ".py",
   "mimetype": "text/x-python",
   "name": "python",
   "nbconvert_exporter": "python",
   "pygments_lexer": "ipython3",
   "version": "3.11.3"
  }
 },
 "nbformat": 4,
 "nbformat_minor": 5
}
